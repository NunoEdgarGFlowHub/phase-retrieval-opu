{
 "cells": [
  {
   "cell_type": "markdown",
   "metadata": {},
   "source": [
    "# Phase retrieval\n",
    "This notebook explains how to retrieve the transmission matrix (TM) of the OPU. \n",
    "\n",
    "We start with the **imports**: If you want to exclusively use the OPU then you need just these two imports:"
   ]
  },
  {
   "cell_type": "code",
   "execution_count": 1,
   "metadata": {},
   "outputs": [],
   "source": [
    "from phase_retrieval_encode import PhaseRetriever\n",
    "from lightonml.projections.torch import OPUMap"
   ]
  },
  {
   "cell_type": "markdown",
   "metadata": {},
   "source": [
    "The `PhaseRetriever` object will do all the work to retrieve the TM.\n",
    "\n",
    "If you want to play a bit with synthetic matrices you need also this:"
   ]
  },
  {
   "cell_type": "code",
   "execution_count": 2,
   "metadata": {},
   "outputs": [],
   "source": [
    "import torch\n",
    "import numpy as np\n",
    "import scipy.stats\n",
    "\n",
    "from complex import ComplexTensor"
   ]
  },
  {
   "cell_type": "markdown",
   "metadata": {},
   "source": [
    "We start by setting the device we want to use: `opu` uses the real OPU, while `cpu` uses a synthetic matrix known a priori."
   ]
  },
  {
   "cell_type": "code",
   "execution_count": 3,
   "metadata": {},
   "outputs": [],
   "source": [
    "rp_device = \"opu\""
   ]
  },
  {
   "cell_type": "markdown",
   "metadata": {},
   "source": [
    "Next we go to the matrix to recover. The OPU performs this operation:  \n",
    "$$ Y = |X A|^2$$\n",
    "\n",
    "With the random matrix on the **right**. \n",
    "The transposed TM has size `(n_components, col)`. We define them below:"
   ]
  },
  {
   "cell_type": "code",
   "execution_count": 4,
   "metadata": {},
   "outputs": [],
   "source": [
    "n_components = 1000\n",
    "col = 1100"
   ]
  },
  {
   "cell_type": "markdown",
   "metadata": {},
   "source": [
    "Then we set some parameters for the accuracy of the retriever. The higher these numbers, the better, but they will increase the computational resources needed for the algorithm to run. These below were the default in the paper, so we will go with these:"
   ]
  },
  {
   "cell_type": "code",
   "execution_count": 5,
   "metadata": {},
   "outputs": [],
   "source": [
    "anchors = 20\n",
    "circ_N = int(0.5 * 1.5 * col)\n",
    "n_signals = 2 * circ_N"
   ]
  },
  {
   "cell_type": "markdown",
   "metadata": {},
   "source": [
    "Then we proceed to the definition of the random matrix:\n",
    "- if `rp_device` == `opu`, we define the OPUMap object as usual\n",
    "- otherwise we generate a dummy random matrix"
   ]
  },
  {
   "cell_type": "code",
   "execution_count": 6,
   "metadata": {},
   "outputs": [
    {
     "name": "stdout",
     "output_type": "stream",
     "text": [
      "OPU output is detached from the computational graph.\n"
     ]
    }
   ],
   "source": [
    "if rp_device == \"opu\":\n",
    "    A = OPUMap(n_components=n_components)\n",
    "else:\n",
    "    A = ComplexTensor(real=torch.randn(n_components, col), imag=torch.randn(n_components, col))"
   ]
  },
  {
   "cell_type": "markdown",
   "metadata": {},
   "source": [
    "As a last step, we initialize the retriever object: we pass all the arguments we defined before, along with the `batch_size`, which manages how many rows of the TM will be recovered at the same time. For optimal results, please make sure that this is divisible by the number of rows of the TM.  \n",
    "Usually $batch size = $ $100$ ~ $500$ tends to yield the maximum speedup"
   ]
  },
  {
   "cell_type": "code",
   "execution_count": 7,
   "metadata": {},
   "outputs": [],
   "source": [
    "batch_size = 500\n",
    "\n",
    "retriever = PhaseRetriever(n_components, col, circ_N, n_signals=n_signals, n_anchors=anchors, batch_size=batch_size)"
   ]
  },
  {
   "cell_type": "markdown",
   "metadata": {},
   "source": [
    "Then you call `fit` to recover the TM"
   ]
  },
  {
   "cell_type": "code",
   "execution_count": 8,
   "metadata": {},
   "outputs": [
    {
     "name": "stderr",
     "output_type": "stream",
     "text": [
      "100%|██████████| 150/150 [00:00<00:00, 28988.88it/s]\n"
     ]
    },
    {
     "name": "stdout",
     "output_type": "stream",
     "text": [
      "torch.Size([100, 3402])\n",
      "OPUMap was not fit to data. Performing fit on the first batch with default parameters...\n"
     ]
    },
    {
     "name": "stderr",
     "output_type": "stream",
     "text": [
      "100%|██████████| 1/1 [00:00<00:00, 27.78it/s]\n",
      "100%|██████████| 150/150 [00:00<00:00, 27244.00it/s]"
     ]
    },
    {
     "name": "stdout",
     "output_type": "stream",
     "text": [
      "Recovering rows...\n",
      "torch.Size([100, 3402])\n"
     ]
    },
    {
     "name": "stderr",
     "output_type": "stream",
     "text": [
      "\n",
      "100%|██████████| 1/1 [00:00<00:00, 33.29it/s]"
     ]
    },
    {
     "name": "stdout",
     "output_type": "stream",
     "text": [
      "Recovering rows...\n"
     ]
    },
    {
     "name": "stderr",
     "output_type": "stream",
     "text": [
      "\n"
     ]
    }
   ],
   "source": [
    "rec_A = retriever.fit(A)"
   ]
  },
  {
   "cell_type": "markdown",
   "metadata": {},
   "source": [
    "The recovered TM is a `ComplexTensor`, which is **NOT** a native dtype in pytorch, since complex tensor are not fully supported yet at the time of writing.  \n",
    "You can just go back to numpy by calling `.numpy()` on the TM:"
   ]
  },
  {
   "cell_type": "code",
   "execution_count": 9,
   "metadata": {},
   "outputs": [
    {
     "data": {
      "text/plain": [
       "array([[ 0.03065051+0.2785847j , -0.06160724-0.31389287j,\n",
       "         0.12339653-0.2755082j , ...,  0.21879664-0.52970487j,\n",
       "         0.19090652-0.06901937j, -0.1025134 +0.09424819j],\n",
       "       [ 0.3519583 +0.0348193j , -0.3281318 +0.18054375j,\n",
       "        -0.08244599+0.28247464j, ..., -0.17507008+0.25962567j,\n",
       "        -0.1248703 +0.002277j  , -0.07638101-0.40856355j],\n",
       "       [ 0.4054241 -0.18987256j, -0.18094121-0.18648839j,\n",
       "         0.04063346-0.19954702j, ..., -0.23087256+0.11478726j,\n",
       "        -0.03398113+0.02732213j,  0.1612791 -0.37866104j],\n",
       "       ...,\n",
       "       [ 0.0246226 -0.114633j  , -0.44970965+0.40815488j,\n",
       "        -0.08802416+0.29696688j, ...,  0.0646004 +0.0685879j ,\n",
       "         0.19173981-0.24357633j, -0.19181368+0.1938564j ],\n",
       "       [ 0.20641218+0.19747394j, -0.32064572-0.03209302j,\n",
       "        -0.13389167+0.04634472j, ...,  0.26521596+0.12376404j,\n",
       "         0.30993614-0.01816016j, -0.14432073+0.04973661j],\n",
       "       [ 0.48918098+0.4864396j ,  0.00594345+0.06432842j,\n",
       "         0.00494148-0.06564788j, ...,  0.13191782+0.24816148j,\n",
       "         0.32891464+0.39711198j,  0.00787903+0.1294006j ]],\n",
       "      dtype=complex64)"
      ]
     },
     "execution_count": 9,
     "metadata": {},
     "output_type": "execute_result"
    }
   ],
   "source": [
    "rec_A.numpy()"
   ]
  },
  {
   "cell_type": "markdown",
   "metadata": {},
   "source": [
    "We can also run some tests to see how close the two matrices are by performing a random projection **with modulus square** with the original and recovered matrix:"
   ]
  },
  {
   "cell_type": "code",
   "execution_count": 1,
   "metadata": {},
   "outputs": [],
   "source": [
    "def test_matrix(retriver, A, reconstructed_A, dummy):\n",
    "    \"\"\"\n",
    "    Computes statistics of the random projection computed with the original and reconstructed matrix\n",
    "    \n",
    "    retriver: retirever object\n",
    "    A: ComplexTensor or OPUMap\n",
    "    reconstructed_A: Complex Tensor, the reconstructed projection matrix\n",
    "    dummy: torch tensor, a random binary input \n",
    "    \n",
    "    \"\"\"\n",
    "    if type(A) == ComplexTensor:\n",
    "        original_input = (A @ dummy).abs() ** 2\n",
    "    else:\n",
    "        original_input = A(dummy.bool().T).T.float()\n",
    "\n",
    "    rec_input = (reconstructed_A @ dummy).abs() ** 2\n",
    "\n",
    "    min_range_orig, max_range_orig = torch.min(original_input).item(), torch.max(original_input).item()\n",
    "    mean_orig, std_orig = torch.mean(original_input).item(), torch.std(original_input).item()\n",
    "\n",
    "    min_range_rec, max_range_rec = torch.min(rec_input).item(), torch.max(rec_input).item()\n",
    "    mean_rec, std_rec = torch.mean(rec_input).item(), torch.std(rec_input).item()\n",
    "\n",
    "    MSE = np.linalg.norm(rec_input.numpy() - original_input.numpy()) / original_input.shape[0]\n",
    "    \n",
    "    if np.isnan(reconstructed_A.numpy()).any():\n",
    "        cross_correlation, p_value = 0, 0\n",
    "    else:\n",
    "        cross_correlation, p_value = scipy.stats.pearsonr(rec_input.numpy().squeeze(), original_input.numpy().squeeze())\n",
    "\n",
    "    print(\"MSE = {}\\nCross correlation = {}\".format(MSE, cross_correlation))\n",
    "    print(\"\\toriginal input: min = {}\\tmax = {}\\tmean = {}\\tstd = {}\"\n",
    "          .format(min_range_orig, max_range_orig, mean_orig, std_orig))\n",
    "    print(\"\\tRange of values (rec): min = {}\\tmax = {}\\tmean = {}\\tstd = {}\"\n",
    "          .format(min_range_rec, max_range_rec, mean_rec, std_rec))\n",
    "\n",
    "    total_time = sum(retriver.time_logger.values())\n",
    "    time_no_RP = total_time - retriver.time_logger[\"RP\"]\n",
    "\n",
    "    print(\"\\nRetrieval time (log) = {0:3.4f} s\\nTime no RP = {1:3.4f} s\\n\".format(total_time, time_no_RP))\n",
    "\n",
    "    return "
   ]
  },
  {
   "cell_type": "code",
   "execution_count": 11,
   "metadata": {},
   "outputs": [
    {
     "name": "stdout",
     "output_type": "stream",
     "text": [
      "MSE = 0.5006128692626953\n",
      "Cross correlation = 0.9777085192479201\n",
      "\toriginal input: min = 0.0\tmax = 134.0\tmean = 21.579999923706055\tstd = 23.407751083374023\n",
      "\tRange of values (rec): min = 0.17202019691467285\tmax = 131.1925811767578\tmean = 21.436668395996094\tstd = 23.952713012695312\n",
      "\n",
      "Retrieval time (log) = 3.9967 s\n",
      "Time no RP = 0.0899 s\n",
      "\n"
     ]
    }
   ],
   "source": [
    "dummy = torch.randint(low=0, high=2, size=(col, 1)).float()\n",
    "\n",
    "test_matrix(retriever, A, rec_A, dummy)"
   ]
  },
  {
   "cell_type": "code",
   "execution_count": null,
   "metadata": {},
   "outputs": [],
   "source": []
  }
 ],
 "metadata": {
  "kernelspec": {
   "display_name": "Python 3",
   "language": "python",
   "name": "python3"
  },
  "language_info": {
   "codemirror_mode": {
    "name": "ipython",
    "version": 3
   },
   "file_extension": ".py",
   "mimetype": "text/x-python",
   "name": "python",
   "nbconvert_exporter": "python",
   "pygments_lexer": "ipython3",
   "version": "3.7.6"
  }
 },
 "nbformat": 4,
 "nbformat_minor": 4
}
